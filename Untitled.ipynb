{
 "cells": [
  {
   "cell_type": "code",
   "execution_count": 170,
   "metadata": {},
   "outputs": [],
   "source": [
    "import re\n",
    "import enchant\n",
    "d = enchant.Dict(\"en_US\")\n",
    "word_list = []\n",
    "remove_words = [\"gif\",\n",
    "                '',\n",
    "                \"jaja\",\n",
    "                \"jajaja\",\n",
    "                \"jjjj\",\n",
    "                \"jajajajaja\",\n",
    "                \"jajajaja\",\n",
    "                \"jajajajaa\",\n",
    "                \"jajaj\",\n",
    "                \"hahaha\",\n",
    "                \"joe\",\n",
    "                \"im\"]\n",
    "for line in words:\n",
    "    for word in line:\n",
    "        new_word = ''.join([i.lower() for i in re.sub('[!@#.$,?\"\\n()]', '', word) if i.isalpha()])\n",
    "        if new_word.lower() not in remove_words and len(new_word) >= 2 and not d.check(new_word.lower()):\n",
    "            word_list.append(new_word)"
   ]
  },
  {
   "cell_type": "code",
   "execution_count": 173,
   "metadata": {
    "scrolled": true
   },
   "outputs": [
    {
     "data": {
      "text/plain": [
       "que              708\n",
       "te               241\n",
       "un               208\n",
       "pero             171\n",
       "por              152\n",
       "como             151\n",
       "una              149\n",
       "los              144\n",
       "se               139\n",
       "haha             125\n",
       "más              122\n",
       "muy              118\n",
       "bien              93\n",
       "las               91\n",
       "vos               88\n",
       "ahora             83\n",
       "esta              70\n",
       "cuando            63\n",
       "tu                63\n",
       "eso               62\n",
       "tengo             58\n",
       "sé                57\n",
       "español           56\n",
       "también           54\n",
       "todo              53\n",
       "gusta             51\n",
       "así               49\n",
       "mucho             49\n",
       "mmm               48\n",
       "creo              48\n",
       "                ... \n",
       "jijiji             1\n",
       "culturalmente      1\n",
       "floyd              1\n",
       "blancas            1\n",
       "uuhh               1\n",
       "impresiones        1\n",
       "despertas          1\n",
       "pendientes         1\n",
       "natureeven         1\n",
       "elemento           1\n",
       "llamando           1\n",
       "valore             1\n",
       "cuento             1\n",
       "dustin             1\n",
       "ds                 1\n",
       "tiernas            1\n",
       "yesss              1\n",
       "escuches           1\n",
       "españaaaa          1\n",
       "fueses             1\n",
       "graciass           1\n",
       "camión             1\n",
       "escapa             1\n",
       "cuidado            1\n",
       "dibujitos          1\n",
       "probando           1\n",
       "despertarte        1\n",
       "criar              1\n",
       "preferidaaaaa      1\n",
       "bañas              1\n",
       "Name: 0, Length: 3205, dtype: int64"
      ]
     },
     "execution_count": 173,
     "metadata": {},
     "output_type": "execute_result"
    }
   ],
   "source": [
    "df = pd.DataFrame(word_list)\n",
    "df[0].value_counts()"
   ]
  },
  {
   "cell_type": "code",
   "execution_count": 53,
   "metadata": {},
   "outputs": [
    {
     "output_type": "execute_result",
     "data": {
      "text/plain": "                                                            0  \\\nUnnamed: 0                                               Lore   \n0           [4/24/20, 10:03:29 AM] Lore: ‎Messages to this...   \n1                 [4/24/20, 10:15:09 AM] Lore: Buenos días!\\n   \n2           [4/24/20, 10:15:22 AM] Lore: haha poor joe!  s...   \n3           [4/24/20, 10:16:44 AM] Lore: In the end you ha...   \n...                                                       ...   \n6984            [7/13/20, 4:01:19 PM] Lore: Gracias rulitos\\n   \n6985                   [7/13/20, 4:01:36 PM] Lore: Elvis!!!\\n   \n6986                [7/13/20, 4:01:51 PM] Lore: Otro otrooo\\n   \n6987                       [7/13/20, 4:01:53 PM] Lore: Jaja\\n   \n6988              ‎[7/13/20, 4:02:17 PM] Lore: ‎GIF omitted\\n   \n\n                                                            1  \nUnnamed: 0                                                Joe  \n0           [4/24/20, 10:03:29 AM] Joe: Alright I guess I’...  \n1           [4/24/20, 10:23:57 AM] Joe: Haha I told you I ...  \n2               ‎[4/24/20, 10:24:23 AM] Joe: ‎image omitted\\n  \n3           [4/24/20, 10:26:18 AM] Joe: Yeah I don’t know ...  \n...                                                       ...  \n6984           [7/17/20, 3:37:10 PM] Joe: Some for me too 😂\\n  \n6985        [7/17/20, 3:59:18 PM] Joe: Oook sleep well. Bu...  \n6986             ‎[7/18/20, 7:06:08 AM] Joe: ‎video omitted\\n  \n6987        [7/18/20, 7:09:08 AM] Joe: Necesito más prácti...  \n6988             ‎[7/18/20, 8:52:12 AM] Joe: ‎image omitted\\n  \n\n[6990 rows x 2 columns]",
      "text/html": "<div>\n<style scoped>\n    .dataframe tbody tr th:only-of-type {\n        vertical-align: middle;\n    }\n\n    .dataframe tbody tr th {\n        vertical-align: top;\n    }\n\n    .dataframe thead th {\n        text-align: right;\n    }\n</style>\n<table border=\"1\" class=\"dataframe\">\n  <thead>\n    <tr style=\"text-align: right;\">\n      <th></th>\n      <th>0</th>\n      <th>1</th>\n    </tr>\n  </thead>\n  <tbody>\n    <tr>\n      <th>Unnamed: 0</th>\n      <td>Lore</td>\n      <td>Joe</td>\n    </tr>\n    <tr>\n      <th>0</th>\n      <td>[4/24/20, 10:03:29 AM] Lore: ‎Messages to this...</td>\n      <td>[4/24/20, 10:03:29 AM] Joe: Alright I guess I’...</td>\n    </tr>\n    <tr>\n      <th>1</th>\n      <td>[4/24/20, 10:15:09 AM] Lore: Buenos días!\\n</td>\n      <td>[4/24/20, 10:23:57 AM] Joe: Haha I told you I ...</td>\n    </tr>\n    <tr>\n      <th>2</th>\n      <td>[4/24/20, 10:15:22 AM] Lore: haha poor joe!  s...</td>\n      <td>‎[4/24/20, 10:24:23 AM] Joe: ‎image omitted\\n</td>\n    </tr>\n    <tr>\n      <th>3</th>\n      <td>[4/24/20, 10:16:44 AM] Lore: In the end you ha...</td>\n      <td>[4/24/20, 10:26:18 AM] Joe: Yeah I don’t know ...</td>\n    </tr>\n    <tr>\n      <th>...</th>\n      <td>...</td>\n      <td>...</td>\n    </tr>\n    <tr>\n      <th>6984</th>\n      <td>[7/13/20, 4:01:19 PM] Lore: Gracias rulitos\\n</td>\n      <td>[7/17/20, 3:37:10 PM] Joe: Some for me too 😂\\n</td>\n    </tr>\n    <tr>\n      <th>6985</th>\n      <td>[7/13/20, 4:01:36 PM] Lore: Elvis!!!\\n</td>\n      <td>[7/17/20, 3:59:18 PM] Joe: Oook sleep well. Bu...</td>\n    </tr>\n    <tr>\n      <th>6986</th>\n      <td>[7/13/20, 4:01:51 PM] Lore: Otro otrooo\\n</td>\n      <td>‎[7/18/20, 7:06:08 AM] Joe: ‎video omitted\\n</td>\n    </tr>\n    <tr>\n      <th>6987</th>\n      <td>[7/13/20, 4:01:53 PM] Lore: Jaja\\n</td>\n      <td>[7/18/20, 7:09:08 AM] Joe: Necesito más prácti...</td>\n    </tr>\n    <tr>\n      <th>6988</th>\n      <td>‎[7/13/20, 4:02:17 PM] Lore: ‎GIF omitted\\n</td>\n      <td>‎[7/18/20, 8:52:12 AM] Joe: ‎image omitted\\n</td>\n    </tr>\n  </tbody>\n</table>\n<p>6990 rows × 2 columns</p>\n</div>"
     },
     "metadata": {},
     "execution_count": 53
    }
   ],
   "source": [
    "import pandas as pd\n",
    "df = pd.read_csv(\"test_chat.csv\")\n",
    "df = df.transpose().dropna()\n",
    "df"
   ]
  },
  {
   "cell_type": "code",
   "execution_count": 231,
   "metadata": {
    "tags": []
   },
   "outputs": [],
   "source": [
    "remove_words = {\"gif\": True,\n",
    "                \"omitted\": True,\n",
    "                \"audio\": True,\n",
    "                \"image\": True,\n",
    "                \"video\": True,\n",
    "                \" \": True,\n",
    "                \"jjjjj\": True,\n",
    "                \"jajajajajajaja\": True,\n",
    "                \"jajajj\": True,\n",
    "                \"jaja\": True,\n",
    "                \"jajaja\": True,\n",
    "                \"jjjj\": True,\n",
    "                \"jajajajaja\": True,\n",
    "                \"jajajaja\": True,\n",
    "                \"jajajajaa\": True,\n",
    "                \"jajaj\": True,\n",
    "                \"haha\": True,\n",
    "                \"hahaha\": True,\n",
    "                \"lore\": True,\n",
    "                \"im\": True,\n",
    "                \"am\": True,\n",
    "                \"pm\": True,\n",
    "                \"\\u200eimage\": True}\n",
    "word_counts = {}\n",
    "for i in range(len(df.columns)):\n",
    "    res = [x for x in df[i][1:]]\n",
    "    name = df[i][0]\n",
    "    word_counts[name] = []\n",
    "    for j in range(len(res)):\n",
    "        try:\n",
    "            words = str(res[j]).split(f\" {name}: \")[1].split(\" \")\n",
    "            for word in words:\n",
    "                if word.lower() not in remove_words:\n",
    "                    word = word.rstrip('\"\\n().,!?#@&*$').split(\".\")[0].lower()\n",
    "                    word_counts[name].append(word)\n",
    "                \n",
    "        except IndexError:\n",
    "            pass\n",
    "\n",
    "\n"
   ]
  },
  {
   "cell_type": "code",
   "execution_count": 236,
   "metadata": {},
   "outputs": [],
   "source": [
    "dfs = {}\n",
    "for key, value in word_counts.items():\n",
    "    dfs[key] = pd.DataFrame.from_dict(word_counts, orient=\"index\").transpose().dropna()[key].value_counts()\n"
   ]
  },
  {
   "cell_type": "code",
   "execution_count": 241,
   "metadata": {},
   "outputs": [
    {
     "output_type": "execute_result",
     "data": {
      "text/plain": "que           1975\nde            1245\nno            1200\nme            1200\nomitted       1156\n              ... \ntied             1\nannoying         1\nfeeling          1\n//               1\n\"spanglish       1\nName: Lore, Length: 7959, dtype: int64"
     },
     "metadata": {},
     "execution_count": 241
    }
   ],
   "source": [
    "dfs[\"Lore\"]"
   ]
  },
  {
   "cell_type": "code",
   "execution_count": 188,
   "metadata": {
    "tags": []
   },
   "outputs": [
    {
     "output_type": "stream",
     "name": "stdout",
     "text": "Lore\nJoe\n"
    }
   ],
   "source": [
    "for key, value in word_counts.items():"
   ]
  },
  {
   "cell_type": "code",
   "execution_count": null,
   "metadata": {},
   "outputs": [],
   "source": []
  }
 ],
 "metadata": {
  "kernelspec": {
   "display_name": "Python 3.8.4 64-bit",
   "language": "python",
   "name": "python_defaultSpec_1596307070508"
  },
  "language_info": {
   "codemirror_mode": {
    "name": "ipython",
    "version": 3
   },
   "file_extension": ".py",
   "mimetype": "text/x-python",
   "name": "python",
   "nbconvert_exporter": "python",
   "pygments_lexer": "ipython3",
   "version": "3.7.2"
  }
 },
 "nbformat": 4,
 "nbformat_minor": 2
}