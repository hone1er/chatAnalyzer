{
 "cells": [
  {
   "cell_type": "code",
   "execution_count": 170,
   "metadata": {},
   "outputs": [],
   "source": [
    "import re\n",
    "import enchant\n",
    "d = enchant.Dict(\"en_US\")\n",
    "word_list = []\n",
    "remove_words = [\"gif\",\n",
    "                '',\n",
    "                \"jaja\",\n",
    "                \"jajaja\",\n",
    "                \"jjjj\",\n",
    "                \"jajajajaja\",\n",
    "                \"jajajaja\",\n",
    "                \"jajajajaa\",\n",
    "                \"jajaj\",\n",
    "                \"hahaha\",\n",
    "                \"joe\",\n",
    "                \"im\"]\n",
    "for line in words:\n",
    "    for word in line:\n",
    "        new_word = ''.join([i.lower() for i in re.sub('[!@#.$,?\"\\n()]', '', word) if i.isalpha()])\n",
    "        if new_word.lower() not in remove_words and len(new_word) >= 2 and not d.check(new_word.lower()):\n",
    "            word_list.append(new_word)"
   ]
  },
  {
   "cell_type": "code",
   "execution_count": 173,
   "metadata": {
    "scrolled": true
   },
   "outputs": [
    {
     "data": {
      "text/plain": [
       "que              708\n",
       "te               241\n",
       "un               208\n",
       "pero             171\n",
       "por              152\n",
       "como             151\n",
       "una              149\n",
       "los              144\n",
       "se               139\n",
       "haha             125\n",
       "más              122\n",
       "muy              118\n",
       "bien              93\n",
       "las               91\n",
       "vos               88\n",
       "ahora             83\n",
       "esta              70\n",
       "cuando            63\n",
       "tu                63\n",
       "eso               62\n",
       "tengo             58\n",
       "sé                57\n",
       "español           56\n",
       "también           54\n",
       "todo              53\n",
       "gusta             51\n",
       "así               49\n",
       "mucho             49\n",
       "mmm               48\n",
       "creo              48\n",
       "                ... \n",
       "jijiji             1\n",
       "culturalmente      1\n",
       "floyd              1\n",
       "blancas            1\n",
       "uuhh               1\n",
       "impresiones        1\n",
       "despertas          1\n",
       "pendientes         1\n",
       "natureeven         1\n",
       "elemento           1\n",
       "llamando           1\n",
       "valore             1\n",
       "cuento             1\n",
       "dustin             1\n",
       "ds                 1\n",
       "tiernas            1\n",
       "yesss              1\n",
       "escuches           1\n",
       "españaaaa          1\n",
       "fueses             1\n",
       "graciass           1\n",
       "camión             1\n",
       "escapa             1\n",
       "cuidado            1\n",
       "dibujitos          1\n",
       "probando           1\n",
       "despertarte        1\n",
       "criar              1\n",
       "preferidaaaaa      1\n",
       "bañas              1\n",
       "Name: 0, Length: 3205, dtype: int64"
      ]
     },
     "execution_count": 173,
     "metadata": {},
     "output_type": "execute_result"
    }
   ],
   "source": [
    "df = pd.DataFrame(word_list)\n",
    "df[0].value_counts()"
   ]
  },
  {
   "cell_type": "code",
   "execution_count": 53,
   "metadata": {},
   "outputs": [
    {
     "output_type": "execute_result",
     "data": {
      "text/plain": "                                                            0  \\\nUnnamed: 0                                               Lore   \n0           [4/24/20, 10:03:29 AM] Lore: ‎Messages to this...   \n1                 [4/24/20, 10:15:09 AM] Lore: Buenos días!\\n   \n2           [4/24/20, 10:15:22 AM] Lore: haha poor joe!  s...   \n3           [4/24/20, 10:16:44 AM] Lore: In the end you ha...   \n...                                                       ...   \n6984            [7/13/20, 4:01:19 PM] Lore: Gracias rulitos\\n   \n6985                   [7/13/20, 4:01:36 PM] Lore: Elvis!!!\\n   \n6986                [7/13/20, 4:01:51 PM] Lore: Otro otrooo\\n   \n6987                       [7/13/20, 4:01:53 PM] Lore: Jaja\\n   \n6988              ‎[7/13/20, 4:02:17 PM] Lore: ‎GIF omitted\\n   \n\n                                                            1  \nUnnamed: 0                                                Joe  \n0           [4/24/20, 10:03:29 AM] Joe: Alright I guess I’...  \n1           [4/24/20, 10:23:57 AM] Joe: Haha I told you I ...  \n2               ‎[4/24/20, 10:24:23 AM] Joe: ‎image omitted\\n  \n3           [4/24/20, 10:26:18 AM] Joe: Yeah I don’t know ...  \n...                                                       ...  \n6984           [7/17/20, 3:37:10 PM] Joe: Some for me too 😂\\n  \n6985        [7/17/20, 3:59:18 PM] Joe: Oook sleep well. Bu...  \n6986             ‎[7/18/20, 7:06:08 AM] Joe: ‎video omitted\\n  \n6987        [7/18/20, 7:09:08 AM] Joe: Necesito más prácti...  \n6988             ‎[7/18/20, 8:52:12 AM] Joe: ‎image omitted\\n  \n\n[6990 rows x 2 columns]",
      "text/html": "<div>\n<style scoped>\n    .dataframe tbody tr th:only-of-type {\n        vertical-align: middle;\n    }\n\n    .dataframe tbody tr th {\n        vertical-align: top;\n    }\n\n    .dataframe thead th {\n        text-align: right;\n    }\n</style>\n<table border=\"1\" class=\"dataframe\">\n  <thead>\n    <tr style=\"text-align: right;\">\n      <th></th>\n      <th>0</th>\n      <th>1</th>\n    </tr>\n  </thead>\n  <tbody>\n    <tr>\n      <th>Unnamed: 0</th>\n      <td>Lore</td>\n      <td>Joe</td>\n    </tr>\n    <tr>\n      <th>0</th>\n      <td>[4/24/20, 10:03:29 AM] Lore: ‎Messages to this...</td>\n      <td>[4/24/20, 10:03:29 AM] Joe: Alright I guess I’...</td>\n    </tr>\n    <tr>\n      <th>1</th>\n      <td>[4/24/20, 10:15:09 AM] Lore: Buenos días!\\n</td>\n      <td>[4/24/20, 10:23:57 AM] Joe: Haha I told you I ...</td>\n    </tr>\n    <tr>\n      <th>2</th>\n      <td>[4/24/20, 10:15:22 AM] Lore: haha poor joe!  s...</td>\n      <td>‎[4/24/20, 10:24:23 AM] Joe: ‎image omitted\\n</td>\n    </tr>\n    <tr>\n      <th>3</th>\n      <td>[4/24/20, 10:16:44 AM] Lore: In the end you ha...</td>\n      <td>[4/24/20, 10:26:18 AM] Joe: Yeah I don’t know ...</td>\n    </tr>\n    <tr>\n      <th>...</th>\n      <td>...</td>\n      <td>...</td>\n    </tr>\n    <tr>\n      <th>6984</th>\n      <td>[7/13/20, 4:01:19 PM] Lore: Gracias rulitos\\n</td>\n      <td>[7/17/20, 3:37:10 PM] Joe: Some for me too 😂\\n</td>\n    </tr>\n    <tr>\n      <th>6985</th>\n      <td>[7/13/20, 4:01:36 PM] Lore: Elvis!!!\\n</td>\n      <td>[7/17/20, 3:59:18 PM] Joe: Oook sleep well. Bu...</td>\n    </tr>\n    <tr>\n      <th>6986</th>\n      <td>[7/13/20, 4:01:51 PM] Lore: Otro otrooo\\n</td>\n      <td>‎[7/18/20, 7:06:08 AM] Joe: ‎video omitted\\n</td>\n    </tr>\n    <tr>\n      <th>6987</th>\n      <td>[7/13/20, 4:01:53 PM] Lore: Jaja\\n</td>\n      <td>[7/18/20, 7:09:08 AM] Joe: Necesito más prácti...</td>\n    </tr>\n    <tr>\n      <th>6988</th>\n      <td>‎[7/13/20, 4:02:17 PM] Lore: ‎GIF omitted\\n</td>\n      <td>‎[7/18/20, 8:52:12 AM] Joe: ‎image omitted\\n</td>\n    </tr>\n  </tbody>\n</table>\n<p>6990 rows × 2 columns</p>\n</div>"
     },
     "metadata": {},
     "execution_count": 53
    }
   ],
   "source": [
    "import pandas as pd\n",
    "df = pd.read_csv(\"test_chat.csv\")\n",
    "df = df.transpose().dropna()\n",
    "df"
   ]
  },
  {
   "cell_type": "code",
   "execution_count": 225,
   "metadata": {
    "tags": []
   },
   "outputs": [],
   "source": [
    "remove_words = {\"gif\": True,\n",
    "                \"omitted\": True,\n",
    "                \"audio\": True,\n",
    "                \"image\": True,\n",
    "                \"video\": True,\n",
    "                \" \": True,\n",
    "                \"jjjjj\": True,\n",
    "                \"jajajajajajaja\": True,\n",
    "                \"jajajj\": True,\n",
    "                \"jaja\": True,\n",
    "                \"jajaja\": True,\n",
    "                \"jjjj\": True,\n",
    "                \"jajajajaja\": True,\n",
    "                \"jajajaja\": True,\n",
    "                \"jajajajaa\": True,\n",
    "                \"jajaj\": True,\n",
    "                \"haha\": True,\n",
    "                \"hahaha\": True,\n",
    "                \"lore\": True,\n",
    "                \"im\": True,\n",
    "                \"am\": True,\n",
    "                \"pm\": True,\n",
    "                \"\\u200eimage\": True}\n",
    "word_counts = {}\n",
    "for i in range(len(df.columns)):\n",
    "    res = [x for x in df[i][1:]]\n",
    "    name = df[i][0]\n",
    "    word_counts[name] = []\n",
    "    for j in range(len(res)):\n",
    "        try:\n",
    "            words = str(res[j]).split(f\" {name}: \")[1].split(\" \")\n",
    "            for word in words:\n",
    "                if word.lower() not in remove_words:\n",
    "                        \n",
    "                    word = word.rstrip('\"\\n().,!?#@&*$').split(\".\")[0].lower()\n",
    "                    word_counts[name].append(word)\n",
    "                \n",
    "        except IndexError:\n",
    "            pass\n",
    "\n",
    "\n"
   ]
  },
  {
   "cell_type": "code",
   "execution_count": 226,
   "metadata": {},
   "outputs": [],
   "source": [
    "dfs = {}\n",
    "for key, value in word_counts.items():\n",
    "    dfs[key] = pd.DataFrame.from_dict(word_counts, orient=\"index\").transpose().dropna()[key]\n"
   ]
  },
  {
   "cell_type": "code",
   "execution_count": 227,
   "metadata": {},
   "outputs": [
    {
     "output_type": "execute_result",
     "data": {
      "text/plain": "{'i': 2554,\n 'to': 1891,\n 'the': 1560,\n 'you': 1489,\n 'a': 1067,\n 'it': 960,\n 'omitted': 827,\n 'haha': 723,\n 'and': 716,\n 'that': 707,\n '😂': 613,\n 'i’m': 597,\n 'me': 586,\n 'of': 574,\n 'but': 532,\n 'like': 522,\n 'in': 518,\n 'my': 489,\n 'for': 482,\n 'so': 449,\n 'is': 445,\n '\\u200egif': 415,\n 'have': 392,\n 'be': 383,\n 'was': 376,\n 'just': 375,\n 'it’s': 359,\n 'don’t': 340,\n 'good': 331,\n 'with': 311,\n 'i’ll': 297,\n '': 294,\n 'hahah': 292,\n 'on': 287,\n 'get': 283,\n 'what': 281,\n 'when': 273,\n 'if': 270,\n 'can': 263,\n 'about': 263,\n 'yeah': 263,\n 'not': 262,\n 'all': 256,\n 'now': 255,\n 'hahaha': 244,\n 'know': 240,\n 'up': 234,\n 'at': 231,\n 'this': 229,\n 'more': 223,\n 'ok': 220,\n 'that’s': 218,\n 'going': 217,\n 'or': 207,\n 'one': 203,\n 'too': 202,\n 'want': 199,\n 'time': 198,\n 'really': 185,\n 'make': 183,\n 'would': 183,\n 'some': 180,\n '\\u200evideo': 179,\n 'are': 179,\n 'do': 179,\n 'though': 176,\n 'your': 173,\n 'out': 165,\n 'how': 158,\n 'there': 156,\n 'they': 155,\n 'go': 149,\n 'no': 149,\n 'need': 147,\n 'think': 147,\n 'much': 146,\n 'you’re': 141,\n 'say': 137,\n 'we': 131,\n 'from': 131,\n 'see': 124,\n 'talk': 124,\n 'oh': 122,\n 'little': 122,\n 'shit': 119,\n 'he': 118,\n '\\u200eaudio': 118,\n 'as': 117,\n 'something': 116,\n 'stuff': 114,\n 'well': 113,\n 'alright': 111,\n 'hahahaha': 108,\n 'day': 108,\n 'sure': 107,\n 'back': 106,\n 'lot': 105,\n 'people': 105,\n 'right': 104,\n 'way': 103,\n 'work': 102,\n 'only': 101,\n 'got': 99,\n 'probably': 98,\n 'damn': 96,\n 'send': 96,\n 'better': 95,\n 'didn’t': 94,\n 'still': 92,\n 'fuck': 91,\n 'here': 90,\n 'spanish': 89,\n 'them': 88,\n 'cool': 88,\n 'sleep': 86,\n 'things': 86,\n 'getting': 85,\n 'she': 84,\n 'by': 84,\n 'should': 84,\n 'trying': 83,\n 'had': 83,\n 'super': 83,\n 'today': 82,\n 'even': 81,\n 'i’ve': 80,\n 'cause': 80,\n 'can’t': 79,\n 'before': 78,\n 'an': 78,\n 'definitely': 78,\n 'first': 77,\n 'pretty': 76,\n 'will': 75,\n 'been': 73,\n 'long': 73,\n 'thing': 73,\n 'sounds': 73,\n 'guess': 73,\n 'bad': 72,\n 'than': 72,\n 'tell': 71,\n 'never': 70,\n 'being': 69,\n 'hard': 69,\n 'hahahah': 69,\n 'nice': 68,\n 'then': 67,\n 'hella': 67,\n 'take': 67,\n 'fun': 66,\n 'try': 65,\n 'feel': 65,\n 'talking': 65,\n 'sorry': 64,\n 'love': 64,\n 'very': 61,\n 'later': 61,\n '😘': 60,\n 'words': 60,\n 'always': 60,\n 'weird': 59,\n 'those': 59,\n 'understand': 59,\n 'looks': 59,\n 'find': 58,\n 'use': 58,\n 'anything': 58,\n 'look': 58,\n 'videos': 58,\n 'because': 58,\n 'maybe': 58,\n 'could': 57,\n 'said': 57,\n 'few': 55,\n 'why': 54,\n 'skate': 54,\n 'saying': 53,\n 'kind': 53,\n 'down': 53,\n 'soon': 52,\n 'also': 52,\n 'come': 52,\n 'same': 52,\n 'other': 52,\n 'many': 51,\n 'learn': 51,\n 'has': 50,\n 'were': 50,\n 'most': 49,\n 'hahahahaha': 49,\n 'over': 48,\n 'end': 47,\n 'making': 47,\n 'working': 47,\n 'last': 47,\n 'friends': 46,\n 'around': 46,\n 'sometimes': 45,\n 'thanks': 44,\n 'asleep': 43,\n 'doing': 43,\n 'already': 43,\n 'makes': 42,\n 'english': 42,\n 'did': 42,\n 'hope': 41,\n 'while': 41,\n 'great': 41,\n 'mean': 41,\n 'dude': 41,\n 'keep': 40,\n 'start': 40,\n 'made': 39,\n 'used': 39,\n 'off': 39,\n 'after': 38,\n 'tomorrow': 38,\n 'might': 38,\n '🤷\\u200d♂️': 38,\n 'different': 38,\n 'you’ll': 37,\n '🤔': 37,\n 'her': 37,\n 'morning': 37,\n 'again': 37,\n 'these': 37,\n 'funny': 37,\n 'wish': 37,\n 'him': 37,\n 'place': 37,\n 'their': 36,\n 'his': 36,\n 'design': 36,\n 'life': 36,\n 'doesn’t': 36,\n 'music': 36,\n 'us': 36,\n 'into': 35,\n 'started': 35,\n 'enjoy': 35,\n 'hear': 35,\n 'ask': 35,\n 'dammit': 35,\n 'give': 34,\n 'mind': 34,\n 'game': 34,\n 'let': 33,\n 'enough': 33,\n 'big': 33,\n 'bed': 33,\n 'far': 33,\n 'everything': 33,\n 'message': 33,\n 'true': 33,\n 'it’ll': 33,\n 'they’re': 32,\n 'any': 32,\n 'real': 32,\n 'least': 32,\n 'thought': 31,\n 'idea': 31,\n 'next': 31,\n 'part': 30,\n 'where': 30,\n 'sound': 30,\n 'hawaii': 30,\n 'told': 30,\n 'babe': 30,\n 'buenas': 30,\n 'appreciate': 30,\n 'bunch': 30,\n 'help': 30,\n 'done': 30,\n 'having': 30,\n 'interesting': 29,\n 'we’ll': 29,\n 'put': 29,\n 'another': 29,\n 'week': 29,\n 'practice': 29,\n 'everyone': 29,\n 'went': 29,\n 'looking': 29,\n 'wait': 29,\n 'sent': 28,\n 'house': 28,\n 'actually': 28,\n 'noches': 28,\n 'hopefully': 28,\n 'best': 28,\n '😆': 27,\n 'until': 27,\n 'often': 27,\n 'happy': 27,\n 'bit': 27,\n 'bay': 27,\n 'remember': 27,\n 'someone': 27,\n 'glad': 27,\n 'hours': 27,\n 'new': 27,\n 'stay': 27,\n 'learning': 26,\n 'area': 26,\n 'tired': 26,\n 'close': 26,\n 'usually': 26,\n 'sucks': 26,\n 'friend': 26,\n 'play': 26,\n 'old': 25,\n 'night': 25,\n 'show': 25,\n 'word': 25,\n 'whatever': 25,\n 'ago': 25,\n 'since': 25,\n 'away': 25,\n 'dog': 25,\n 'thinking': 25,\n 'person': 25,\n 'early': 25,\n 'thank': 24,\n 'pick': 24,\n 'yet': 24,\n 'we’re': 24,\n 'stop': 24,\n 'wouldn’t': 24,\n 'believe': 24,\n 'skating': 24,\n 'every': 24,\n 'wasn’t': 24,\n 'favorite': 23,\n 'wanted': 23,\n 'days': 23,\n 'watch': 23,\n 'ones': 23,\n 'random': 23,\n 'without': 23,\n 'fall': 23,\n 'open': 23,\n 'late': 23,\n 'myself': 23,\n 'mmmm': 23,\n 'free': 23,\n 'california': 22,\n 'pictures': 22,\n 'two': 22,\n 'problem': 22,\n 'haven’t': 22,\n 'won’t': 22,\n 'website': 22,\n 'less': 22,\n 'our': 22,\n 'wake': 22,\n 'fine': 22,\n 'money': 22,\n 'crazy': 21,\n 'cute': 21,\n 'worry': 21,\n 'coffee': 21,\n 'yes': 21,\n 'youtube': 21,\n 'i’d': 21,\n 'together': 21,\n 'speak': 21,\n 'sense': 21,\n 'which': 21,\n 'nervous': 20,\n 'own': 20,\n 'name': 20,\n 'world': 20,\n 'passport': 20,\n 'ever': 20,\n 'mmm': 20,\n 'years': 20,\n 'meet': 20,\n 'especially': 20,\n 'video': 20,\n 'excited': 20,\n 'times': 19,\n 'dogs': 19,\n 'hate': 19,\n '2': 19,\n 'fast': 19,\n 'deal': 19,\n 'found': 19,\n 'must': 19,\n 'listen': 19,\n 'seems': 19,\n 'wonder': 19,\n 'happen': 19,\n 'perfect': 19,\n 'feeling': 19,\n 'camp': 19,\n 'couldn’t': 19,\n 'notice': 19,\n 'either': 19,\n 'family': 19,\n 'worries': 18,\n 'second': 18,\n 'forgot': 18,\n 'course': 18,\n 'instead': 18,\n 'phrases': 18,\n 'through': 18,\n 'weeks': 18,\n 'coming': 18,\n 'dream': 18,\n 'almost': 18,\n 'de': 18,\n 'telling': 18,\n 'small': 18,\n 'buy': 18,\n 'year': 18,\n 'slow': 18,\n 'using': 18,\n 'god': 18,\n 'goes': 18,\n \"i'm\": 18,\n 'program': 18,\n 'across': 18,\n 'song': 18,\n 'fucking': 18,\n 'places': 17,\n 'took': 17,\n 'beach': 17,\n 'accent': 17,\n '😊': 17,\n 'spain': 17,\n 'read': 17,\n 'yesterday': 17,\n 'car': 17,\n 'lots': 17,\n 'interested': 17,\n 'home': 17,\n 'gifs': 17,\n 'aaah': 17,\n 'point': 17,\n 'whole': 17,\n 'gracias': 16,\n 'heard': 16,\n 'gets': 16,\n 'oooh': 16,\n 'drive': 16,\n 'worked': 16,\n 'happens': 16,\n 'kids': 16,\n 'ready': 16,\n 'listening': 16,\n 'aaaah': 16,\n 'miss': 16,\n 'channel': 16,\n 'room': 16,\n '😞': 16,\n 'sweet': 16,\n 'sun': 16,\n 'hmm': 16,\n 'mostly': 16,\n 'eat': 16,\n 'add': 16,\n 'able': 16,\n 'hot': 15,\n 'stoked': 15,\n 'similar': 15,\n 'near': 15,\n 'ooooh': 15,\n 'watching': 15,\n 'phone': 15,\n 'la': 15,\n 'terrible': 15,\n 'job': 15,\n 'surprised': 15,\n 'boring': 15,\n 'internet': 15,\n 'subtitles': 15,\n 'code': 15,\n 'teach': 15,\n \"it's\": 15,\n 'hah': 15,\n 'anyone': 15,\n 'change': 15,\n 'figure': 15,\n 'call': 15,\n 'eventually': 15,\n 'class': 14,\n 'embarrassing': 14,\n 'nothing': 14,\n 'hell': 14,\n 'you’ve': 14,\n 'describe': 14,\n 'kidding': 14,\n 'easy': 14,\n 'sounded': 14,\n 'list': 14,\n 'sending': 14,\n 'basically': 14,\n 'space': 14,\n 'skateboard': 14,\n 'story': 14,\n 'attention': 14,\n 'side': 14,\n 'buenos': 14,\n 'taking': 14,\n '3': 14,\n 'computer': 14,\n 'short': 14,\n 'lol': 14,\n 'works': 14,\n 'normal': 14,\n 'dance': 14,\n 'each': 13,\n 'you’d': 13,\n 'came': 13,\n 'hahahahah': 13,\n 'head': 13,\n 'ugly': 13,\n 'saw': 13,\n 'visit': 13,\n 'difficult': 13,\n 'once': 13,\n 'happened': 13,\n 'figured': 13,\n 'check': 13,\n 'quick': 13,\n 'anyway': 13,\n 'movie': 13,\n 'girls': 13,\n 'tried': 13,\n 'does': 13,\n 'nelly': 13,\n 'wrong': 13,\n 'longer': 13,\n 'seem': 13,\n 'sooo': 13,\n 'between': 13,\n 'judge': 13,\n 'memory': 13,\n 'picture': 13,\n 'who': 13,\n 'nooo': 12,\n 'chat': 12,\n 'keeping': 12,\n 'boy': 12,\n 'woke': 12,\n 'whoops': 12,\n 'somewhere': 12,\n 'un': 12,\n 'laugh': 12,\n 'island': 12,\n 'dinner': 12,\n 'supposed': 12,\n 'difference': 12,\n 'link': 12,\n 'phrase': 12,\n 'would’ve': 12,\n 'leave': 12,\n 'photos': 12,\n 'waiting': 12,\n 'dice': 12,\n '10': 12,\n 'songs': 12,\n 'photo': 12,\n 'breakfast': 12,\n 'month': 12,\n 'beer': 12,\n 'seriously': 12,\n 'minutes': 12,\n 'hour': 12,\n 'expect': 12,\n 'should’ve': 12,\n 'write': 12,\n 'style': 12,\n '1': 12,\n 'sister': 12,\n 'reason': 12,\n 'whenever': 11,\n 'months': 11,\n 'kid': 11,\n 'top': 11,\n 'complicated': 11,\n 'forever': 11,\n 'mad': 11,\n 'ideas': 11,\n '😬': 11,\n 'aren’t': 11,\n 'easier': 11,\n 'summer': 11,\n 'simple': 11,\n 'mask': 11,\n 'aw': 11,\n 'giving': 11,\n 'spot': 11,\n 'live': 11,\n 'unless': 11,\n 'guy': 11,\n 'paid': 11,\n 'build': 11,\n 'they’ll': 11,\n 'online': 11,\n 'everyday': 11,\n 'ticket': 11,\n 'says': 11,\n 'question': 11,\n 'dad': 11,\n 'que': 11,\n 'hit': 11,\n 'hmmm': 11,\n 'comes': 11,\n 'días': 11,\n 'learned': 11,\n 'body': 11,\n 'mom': 11,\n '“i': 11,\n 'happening': 11,\n 'country': 11,\n 'beginning': 11,\n 'web': 11,\n 'lately': 11,\n 'confused': 10,\n 'starting': 10,\n 'store': 10,\n 'answer': 10,\n 'changes': 10,\n 'joke': 10,\n 'barely': 10,\n 'feels': 10,\n 'meeting': 10,\n 'isn’t': 10,\n 'quarantine': 10,\n 'called': 10,\n 'move': 10,\n 'hand': 10,\n 'voice': 10,\n 'speaking': 10,\n 'slowly': 10,\n 'plan': 10,\n 'content': 10,\n 'chill': 10,\n 'felt': 10,\n 'totally': 10,\n 'half': 10,\n 'anymore': 10,\n 'hola': 10,\n 'man': 10,\n 'total': 10,\n 'más': 10,\n 'mine': 10,\n 'fell': 10,\n 'watched': 10,\n 'wear': 10,\n 'forget': 10,\n 'portfolio': 10,\n 'imagine': 10,\n 'distance': 10,\n 'literally': 10,\n 'page': 10,\n 'slang': 10,\n 'food': 10,\n 'sentence': 10,\n \"i'll\": 10,\n 'missed': 10,\n '👍': 10,\n 'asking': 10,\n 'weed': 9,\n 'knew': 9,\n 'left': 9,\n 'coding': 9,\n 'shouldn’t': 9,\n 'living': 9,\n 'likely': 9,\n 'depends': 9,\n 'sad': 9,\n 'beautiful': 9,\n 'else': 9,\n 'type': 9,\n 'app': 9,\n 'both': 9,\n 'worst': 9,\n 'matter': 9,\n '3d': 9,\n 'click': 9,\n 'rest': 9,\n 'messed': 9,\n 'park': 9,\n 'ugh': 9,\n 'decent': 9,\n 'book': 9,\n 'she’s': 9,\n 'hat': 9,\n 'takes': 9,\n '🤦\\u200d♂️': 9,\n 'socks': 9,\n 'middle': 9,\n 'ways': 9,\n 'anytime': 9,\n 'notes': 9,\n 'bring': 9,\n 'nap': 9,\n 'save': 9,\n 'skateboarding': 9,\n 'seen': 9,\n 'gave': 9,\n 'street': 9,\n 'finally': 9,\n 'specific': 9,\n 'designer': 9,\n 'what’s': 9,\n 'strange': 9,\n '1000': 9,\n 'leaving': 9,\n 'luck': 9,\n 'bored': 9,\n 'walk': 9,\n 'sleepy': 9,\n 'extra': 9,\n 'outside': 9,\n 'movies': 8,\n 'agree': 8,\n 'language': 8,\n 'looked': 8,\n 'flight': 8,\n 'delete': 8,\n 'building': 8,\n 'casa': 8,\n 'forward': 8,\n 'study': 8,\n 'shows': 8,\n 'busy': 8,\n 'spend': 8,\n 'comfortable': 8,\n 'bet': 8,\n \"don't\": 8,\n 'schedule': 8,\n '30': 8,\n 'notebook': 8,\n 'it’d': 8,\n 'process': 8,\n 'leg': 8,\n 'cold': 8,\n 'boom': 8,\n 'para': 8,\n 'https://youtu': 8,\n 'needed': 8,\n 'everywhere': 8,\n 'stuck': 8,\n 'ah': 8,\n 'soooo': 8,\n 'mess': 8,\n 'surprise': 8,\n '4': 8,\n 'deleted': 8,\n 'madrid': 8,\n 'liked': 8,\n 'hurt': 8,\n 'tips': 8,\n 'touch': 8,\n '12': 8,\n 'case': 8,\n 'pay': 8,\n 'girl': 8,\n 'fix': 8,\n 'turn': 8,\n 'black': 8,\n 'high': 8,\n 'basic': 8,\n 'couch': 8,\n 'nah': 8,\n 'respond': 8,\n 'lesson': 8,\n 'upset': 8,\n 'driving': 8,\n 'shy': 8,\n '🙈': 8,\n 'rules': 8,\n 'harder': 8,\n 'expensive': 8,\n 'messages': 8,\n 'town': 8,\n 'explain': 8,\n 'city': 8,\n 'important': 8,\n 'noooo': 8,\n 'needs': 8,\n 'screen': 7,\n 'xd': 7,\n 'land': 7,\n 'talked': 7,\n 'sign': 7,\n 'pancakes': 7,\n 'hahahahahaha': 7,\n 'speaks': 7,\n 'wondering': 7,\n 'travel': 7,\n 'halfway': 7,\n '100%': 7,\n 'improve': 7,\n 'con': 7,\n 'jobs': 7,\n 'si': 7,\n 'income': 7,\n 'board': 7,\n 'compared': 7,\n 'lo': 7,\n 'sell': 7,\n 'sore': 7,\n 'asked': 7,\n 'mi': 7,\n 'there’s': 7,\n 'playlist': 7,\n '8': 7,\n 'bean': 7,\n 'hey': 7,\n 'lives': 7,\n 'couple': 7,\n 'ronronear': 7,\n 'jaja': 7,\n 'dancing': 7,\n 'exactly': 7,\n 'bien': 7,\n 'humans': 7,\n 'common': 7,\n 'gone': 7,\n 'brain': 7,\n 'joe': 7,\n 'annoying': 7,\n 'questions': 7,\n 'promise': 7,\n 'actual': 7,\n 'he’s': 7,\n '😔': 7,\n 'grandma': 7,\n 'details': 7,\n 'changed': 7,\n 'adobe': 7,\n 'ended': 7,\n 'embarrass': 7,\n 'buttons': 7,\n 'please': 7,\n 'stupid': 7,\n 'mr': 7,\n 'ooh': 7,\n 'earlier': 7,\n 'federal': 7,\n 'oook': 7,\n 'messaged': 7,\n 'tiny': 7,\n 'eh': 7,\n 'aaaaah': 7,\n 'boys': 7,\n 'corny': 7,\n '5': 7,\n 'such': 7,\n 'tonight': 7,\n 'appointment': 7,\n 'nunca': 7,\n 'spotify': 7,\n 'wherever': 7,\n 'situation': 7,\n 'vos': 7,\n 'full': 7,\n 'blah': 7,\n 'strong': 7,\n 'police': 6,\n 'rent': 6,\n 'wow': 6,\n \"we'll\": 6,\n 'plans': 6,\n 'worried': 6,\n 'pinocho': 6,\n 'siii': 6,\n 'el': 6,\n \"you're\": 6,\n 'es': 6,\n 'meant': 6,\n 'knowing': 6,\n 'items': 6,\n 'topic': 6,\n 'andrew': 6,\n 'per': 6,\n 'camera': 6,\n 'dumb': 6,\n 'houses': 6,\n 'must’ve': 6,\n 'problems': 6,\n 'running': 6,\n 'passed': 6,\n 'younger': 6,\n 'confident': 6,\n 'suppose': 6,\n 'shift': 6,\n 'relationships': 6,\n 'grow': 6,\n 'future': 6,\n 'anywhere': 6,\n 'hair': 6,\n 'viral': 6,\n 'film': 6,\n 'straight': 6,\n 'lay': 6,\n 'push': 6,\n 'color': 6,\n 'face': 6,\n 'drink': 6,\n 'falling': 6,\n 'protest': 6,\n '😴': 6,\n 'websites': 6,\n 'faster': 6,\n 'spots': 6,\n 'skatepark': 6,\n 'knows': 6,\n 'tricks': 6,\n 'holaaa': 6,\n 'roll': 6,\n 'run': 6,\n 'could’ve': 6,\n 'moment': 6,\n 'states': 6,\n 'button': 6,\n 'courses': 6,\n 'laughing': 6,\n 'special': 6,\n 'lore': 6,\n 'clips': 6,\n 'stayed': 6,\n 'trip': 6,\n 'honestly': 6,\n 'detail': 6,\n 'imagined': 6,\n 'noooooo': 6,\n 'quite': 6,\n 'muchas': 6,\n 'children': 6,\n 'realize': 6,\n 'nature': 6,\n 'added': 6,\n 'helping': 6,\n 'insane': 6,\n 'honest': 6,\n 'understood': 6,\n 'yang': 6,\n 'loud': 6,\n 'smoke': 6,\n 'opposite': 6,\n 'languages': 6,\n 'bigger': 6,\n 'gotten': 6,\n 'legs': 6,\n 'completely': 6,\n 'built': 6,\n 'fuckin': 6,\n 'housing': 6,\n 'eye': 6,\n 'parents': 6,\n 'starts': 6,\n 'ahaha': 6,\n 'putting': 6,\n '🤗': 6,\n 'ear': 6,\n 'playing': 6,\n '\\u200eyou': 6,\n 'taken': 6,\n 'white': 6,\n 'lady': 5,\n 'poor': 5,\n 'rub': 5,\n 'win': 5,\n 'brother': 5,\n 'shop': 5,\n 'reminds': 5,\n 'lived': 5,\n 'pero': 5,\n 'kept': 5,\n 'thoughts': 5,\n 'avocados': 5,\n 'dreams': 5,\n 'nooooo': 5,\n 'noticed': 5,\n 'hands': 5,\n 'mix': 5,\n 'rogel': 5,\n 'colors': 5,\n 'ooook': 5,\n 'showed': 5,\n 'email': 5,\n 'let’s': 5,\n 'correct': 5,\n 'catch': 5,\n '7': 5,\n 'whaaaaat': 5,\n 'staying': 5,\n 'quality': 5,\n 'fucked': 5,\n 'meaning': 5,\n 'rail': 5,\n 'example': 5,\n 'instantly': 5,\n 'media': 5}"
     },
     "metadata": {},
     "execution_count": 227
    }
   ],
   "source": [
    "dict(dfs[\"Joe\"].value_counts()[:1000])"
   ]
  },
  {
   "cell_type": "code",
   "execution_count": 188,
   "metadata": {
    "tags": []
   },
   "outputs": [
    {
     "output_type": "stream",
     "name": "stdout",
     "text": "Lore\nJoe\n"
    }
   ],
   "source": [
    "for key, value in word_counts.items():"
   ]
  },
  {
   "cell_type": "code",
   "execution_count": null,
   "metadata": {},
   "outputs": [],
   "source": []
  }
 ],
 "metadata": {
  "kernelspec": {
   "display_name": "Python 3.8.4 64-bit",
   "language": "python",
   "name": "python_defaultSpec_1596307070508"
  },
  "language_info": {
   "codemirror_mode": {
    "name": "ipython",
    "version": 3
   },
   "file_extension": ".py",
   "mimetype": "text/x-python",
   "name": "python",
   "nbconvert_exporter": "python",
   "pygments_lexer": "ipython3",
   "version": "3.7.2"
  }
 },
 "nbformat": 4,
 "nbformat_minor": 2
}